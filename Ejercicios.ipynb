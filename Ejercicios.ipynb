{
  "nbformat": 4,
  "nbformat_minor": 0,
  "metadata": {
    "colab": {
      "provenance": [],
      "authorship_tag": "ABX9TyOO7nbn5wzc+qk3oAh+Nn3W",
      "include_colab_link": true
    },
    "kernelspec": {
      "name": "python3",
      "display_name": "Python 3"
    },
    "language_info": {
      "name": "python"
    }
  },
  "cells": [
    {
      "cell_type": "markdown",
      "metadata": {
        "id": "view-in-github",
        "colab_type": "text"
      },
      "source": [
        "<a href=\"https://colab.research.google.com/github/SilviaM24/Back-end-python/blob/main/Ejercicios.ipynb\" target=\"_parent\"><img src=\"https://colab.research.google.com/assets/colab-badge.svg\" alt=\"Open In Colab\"/></a>"
      ]
    },
    {
      "cell_type": "code",
      "execution_count": 20,
      "metadata": {
        "colab": {
          "base_uri": "https://localhost:8080/"
        },
        "id": "ENAZ9Y-Ucf1h",
        "outputId": "f76605c2-2beb-4bac-d0b6-7bc521f05483"
      },
      "outputs": [
        {
          "output_type": "stream",
          "name": "stdout",
          "text": [
            "32.2\n"
          ]
        }
      ],
      "source": [
        "edades = [14, 25, 34, 42, 38, 19, 41, 22, 71, 16]\n",
        "\n",
        "promedio_edades = sum(edades) / len(edades)\n",
        "\n",
        "print(promedio_edades)"
      ]
    },
    {
      "cell_type": "code",
      "source": [
        "edades = [14, 25, 34, 42, 38, 19, 41, 22, 71, 16]\n",
        "\n",
        "menores_de_edad = len([edad for edad in edades if edad < 18])\n",
        "\n",
        "print(menores_de_edad)"
      ],
      "metadata": {
        "colab": {
          "base_uri": "https://localhost:8080/"
        },
        "id": "YSsWAmeoirSL",
        "outputId": "774705ca-5960-468d-956b-615149eae3b3"
      },
      "execution_count": 23,
      "outputs": [
        {
          "output_type": "stream",
          "name": "stdout",
          "text": [
            "2\n"
          ]
        }
      ]
    },
    {
      "cell_type": "code",
      "source": [
        "edades = [14, 25, 34, 42, 38, 19, 41, 22, 71, 16]\n",
        "\n",
        "mayores_de_edad = len([edad for edad in edades if edad > 18])\n",
        "\n",
        "print(mayores_de_edad)"
      ],
      "metadata": {
        "colab": {
          "base_uri": "https://localhost:8080/"
        },
        "id": "tPG4YrBkjRsC",
        "outputId": "0af8a9cf-3984-4d6a-aae4-65e99410606c"
      },
      "execution_count": 24,
      "outputs": [
        {
          "output_type": "stream",
          "name": "stdout",
          "text": [
            "8\n"
          ]
        }
      ]
    },
    {
      "cell_type": "code",
      "source": [
        "edades = [14, 25, 34, 42, 38, 19, 41, 22, 71, 16]\n",
        "\n",
        "promedio_edades = sum(edades) / len(edades)\n",
        "\n",
        "edades_bajo_promedio = len([edad for edad in edades if edad < promedio_edades])\n",
        "\n",
        "edades_sobre_promedio = len([edad for edad in edades if edad > promedio_edades])\n",
        "\n",
        "print(\"El promedio de edades bajo es de: \", (edades_bajo_promedio))\n",
        "print(\"El promedio de edades encima es de: \", (edades_sobre_promedio))"
      ],
      "metadata": {
        "colab": {
          "base_uri": "https://localhost:8080/"
        },
        "id": "gnYfzAQqlJm4",
        "outputId": "d4838106-02d0-44ae-e39e-452d2d5616ae"
      },
      "execution_count": 28,
      "outputs": [
        {
          "output_type": "stream",
          "name": "stdout",
          "text": [
            "El promedio de edades bajo es de:  5\n",
            "El promedio de edades encima es de:  5\n"
          ]
        }
      ]
    },
    {
      "cell_type": "code",
      "source": [
        "# Digitar 5 edades manualmente\n",
        "edades = []\n",
        "for i in range(5):\n",
        "    edad = int(input(f\"Ingrese la edad {i+1}: \"))\n",
        "    edades.append(edad)\n",
        "\n",
        "# Mostrar la edad mayor\n",
        "mayor_edad = max(edades)\n",
        "print(f\"La mayor edad es: {mayor_edad}\")\n",
        "\n",
        "# Mostrar la edad menor\n",
        "menor_edad = min(edades)\n",
        "print(f\"La menor edad es: {menor_edad}\")\n",
        "\n",
        "# Calcular la mediana\n",
        "edades.sort()  # Ordena la lista de edades\n",
        "if len(edades) % 2 == 1:\n",
        "    mediana = edades[len(edades) // 2]\n",
        "else:\n",
        "    mediana = (edades[len(edades) // 2 - 1] + edades[len(edades) // 2]) / 2\n",
        "print(f\"La mediana de las edades es: {mediana}\")\n"
      ],
      "metadata": {
        "colab": {
          "base_uri": "https://localhost:8080/"
        },
        "id": "CMzsED_KnTHV",
        "outputId": "a91b9bb4-5998-41a7-bb17-edf6e2f4be69"
      },
      "execution_count": 29,
      "outputs": [
        {
          "output_type": "stream",
          "name": "stdout",
          "text": [
            "Ingrese la edad 1: 10\n",
            "Ingrese la edad 2: 75\n",
            "Ingrese la edad 3: 16\n",
            "Ingrese la edad 4: 3\n",
            "Ingrese la edad 5: 14\n",
            "La mayor edad es: 75\n",
            "La menor edad es: 3\n",
            "La mediana de las edades es: 14\n"
          ]
        }
      ]
    },
    {
      "cell_type": "code",
      "source": [
        "# Digitar 5 edades manualmente\n",
        "edad1 = int(input(\"Ingrese la primera edad: \"))\n",
        "edad2 = int(input(\"Ingrese la segunda edad: \"))\n",
        "edad3 = int(input(\"Ingrese la tercera edad: \"))\n",
        "edad4 = int(input(\"Ingrese la cuarta edad: \"))\n",
        "edad5 = int(input(\"Ingrese la quinta edad: \"))\n",
        "\n",
        "# Guarda edades en lista\n",
        "edades = [edad1, edad2, edad3, edad4, edad5]\n",
        "\n",
        "# Mostrar edad mayor y menor\n",
        "mayor_edad = max(edades)\n",
        "menor_edad = min(edades)\n",
        "\n",
        "# Calcular la mediana\n",
        "edades_ordenadas = sorted(edades)\n",
        "mediana = edades_ordenadas[2]\n",
        "\n",
        "# Mostrar los resultados\n",
        "print(\"La mayor edad es:\", mayor_edad)\n",
        "print(\"La menor edad es:\", menor_edad)\n",
        "print(\"La mediana de las edades es:\", mediana)\n"
      ],
      "metadata": {
        "colab": {
          "base_uri": "https://localhost:8080/"
        },
        "id": "70RfqlahpibA",
        "outputId": "fe39d3e7-d471-4aa0-f2eb-c94d751bee8f"
      },
      "execution_count": 31,
      "outputs": [
        {
          "output_type": "stream",
          "name": "stdout",
          "text": [
            "Ingrese la primera edad: 58\n",
            "Ingrese la segunda edad: 27\n",
            "Ingrese la tercera edad: 51\n",
            "Ingrese la cuarta edad: 3\n",
            "Ingrese la quinta edad: 16\n",
            "La mayor edad es: 58\n",
            "La menor edad es: 3\n",
            "La mediana de las edades es: 27\n"
          ]
        }
      ]
    }
  ]
}